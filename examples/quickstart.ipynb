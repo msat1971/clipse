{
  "cells": [
    {
      "cell_type": "markdown",
      "metadata": {},
      "source": [
        "# Dclipse Quickstart\\n",
        "Import and load a minimal config."
      ]
    },
    {
      "cell_type": "code",
      "execution_count": null,
      "metadata": {},
      "outputs": [],
      "source": [
        "from dclipse import load_config\\n",
        "import json\\n",
        "example = {'global': {'options': []}, 'behavior': {'io': {'stdout': {'default': 'text'}}}, 'objects': [], 'actions': []}\\n",
        "print(json.dumps(example, indent=2))\\n"
      ]
    }
  ],
  "metadata": {
    "kernelspec": {
      "display_name": "Python 3",
      "language": "python",
      "name": "python3"
    },
    "language_info": {
      "name": "python",
      "version": "3.x"
    }
  },
  "nbformat": 4,
  "nbformat_minor": 5
}
